{
 "cells": [
  {
   "cell_type": "code",
   "execution_count": null,
   "metadata": {
    "collapsed": true
   },
   "outputs": [],
   "source": [
    "function recNM3(n,m,z) #n,m positive integers, z number \n",
    "    #reliable for values of n <= 17 for z=2. \n",
    "    # 0 <= m  <= n\n",
    "    # z > 1.\n",
    "    M = (2*m -1) # M must be odd\n",
    "    # (2m-1)!!= (2m)!/( m! 2^m)   double factorial \n",
    "          dblfac=1\n",
    "          for j=1:M\n",
    "            if  iseven(j)\n",
    "            continue\n",
    "           end\n",
    "          dblfac=j*dblfac  \n",
    "          end\n",
    "    if n == m\n",
    "        return( dblfac*(z*z -1)^(m/2))   \n",
    "    elseif n == m+1\n",
    "        return((2.*m +1.)*z*dblfac*(z*z -1)^(m/2))\n",
    "    end\n",
    "        pj2=dblfac*(z*z -1.)^(m/2)\n",
    "        pj1=z*(2.*m+1.)*pj2   \n",
    "    for j = m+2 :n \n",
    "     pjj=(z*(2.*j-1.)*pj1 - pj2*(j +m-1.)) /(j-m)\n",
    "                pj2=pj1\n",
    "                pj1=pjj\n",
    "    end\n",
    "return pj1 \n",
    "end\n",
    "\n",
    "\n"
   ]
  }
 ],
 "metadata": {
  "kernelspec": {
   "display_name": "Julia 0.4.2",
   "language": "julia",
   "name": "julia-0.4"
  },
  "language_info": {
   "file_extension": ".jl",
   "mimetype": "application/julia",
   "name": "julia",
   "version": "0.4.2"
  }
 },
 "nbformat": 4,
 "nbformat_minor": 0
}
